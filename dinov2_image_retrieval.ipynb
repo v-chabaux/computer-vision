{
  "nbformat": 4,
  "nbformat_minor": 0,
  "metadata": {
    "colab": {
      "provenance": [],
      "gpuType": "T4",
      "authorship_tag": "ABX9TyOIzx1Jts/J14hEXwQmlooQ",
      "include_colab_link": true
    },
    "kernelspec": {
      "name": "python3",
      "display_name": "Python 3"
    },
    "language_info": {
      "name": "python"
    },
    "accelerator": "GPU"
  },
  "cells": [
    {
      "cell_type": "markdown",
      "metadata": {
        "id": "view-in-github",
        "colab_type": "text"
      },
      "source": [
        "<a href=\"https://colab.research.google.com/github/v-chabaux/computer-vision/blob/main/dinov2_image_retrieval.ipynb\" target=\"_parent\"><img src=\"https://colab.research.google.com/assets/colab-badge.svg\" alt=\"Open In Colab\"/></a>"
      ]
    },
    {
      "cell_type": "code",
      "source": [
        "# SRC : https://github.com/roboflow/notebooks/tree/main\n",
        "!pip install faiss-gpu\n",
        "!pip install supervision"
      ],
      "metadata": {
        "colab": {
          "base_uri": "https://localhost:8080/"
        },
        "id": "cIrpys9MsEfX",
        "outputId": "be20fecd-7027-4215-ebea-7fbb1a68b38b"
      },
      "execution_count": 35,
      "outputs": [
        {
          "output_type": "stream",
          "name": "stdout",
          "text": [
            "Requirement already satisfied: faiss-gpu in /usr/local/lib/python3.10/dist-packages (1.7.2)\n",
            "Requirement already satisfied: supervision in /usr/local/lib/python3.10/dist-packages (0.16.0)\n",
            "Requirement already satisfied: matplotlib<4.0.0,>=3.7.1 in /usr/local/lib/python3.10/dist-packages (from supervision) (3.7.1)\n",
            "Requirement already satisfied: numpy<2.0.0,>=1.20.0 in /usr/local/lib/python3.10/dist-packages (from supervision) (1.23.5)\n",
            "Requirement already satisfied: opencv-python-headless<5.0.0.0,>=4.8.0.74 in /usr/local/lib/python3.10/dist-packages (from supervision) (4.8.1.78)\n",
            "Requirement already satisfied: pillow<11.0,>=9.4 in /usr/local/lib/python3.10/dist-packages (from supervision) (9.4.0)\n",
            "Requirement already satisfied: pyyaml<7.0,>=6.0 in /usr/local/lib/python3.10/dist-packages (from supervision) (6.0.1)\n",
            "Requirement already satisfied: scipy<2.0.0,>=1.9.0 in /usr/local/lib/python3.10/dist-packages (from supervision) (1.11.3)\n",
            "Requirement already satisfied: contourpy>=1.0.1 in /usr/local/lib/python3.10/dist-packages (from matplotlib<4.0.0,>=3.7.1->supervision) (1.1.1)\n",
            "Requirement already satisfied: cycler>=0.10 in /usr/local/lib/python3.10/dist-packages (from matplotlib<4.0.0,>=3.7.1->supervision) (0.12.1)\n",
            "Requirement already satisfied: fonttools>=4.22.0 in /usr/local/lib/python3.10/dist-packages (from matplotlib<4.0.0,>=3.7.1->supervision) (4.43.1)\n",
            "Requirement already satisfied: kiwisolver>=1.0.1 in /usr/local/lib/python3.10/dist-packages (from matplotlib<4.0.0,>=3.7.1->supervision) (1.4.5)\n",
            "Requirement already satisfied: packaging>=20.0 in /usr/local/lib/python3.10/dist-packages (from matplotlib<4.0.0,>=3.7.1->supervision) (23.2)\n",
            "Requirement already satisfied: pyparsing>=2.3.1 in /usr/local/lib/python3.10/dist-packages (from matplotlib<4.0.0,>=3.7.1->supervision) (3.1.1)\n",
            "Requirement already satisfied: python-dateutil>=2.7 in /usr/local/lib/python3.10/dist-packages (from matplotlib<4.0.0,>=3.7.1->supervision) (2.8.2)\n",
            "Requirement already satisfied: six>=1.5 in /usr/local/lib/python3.10/dist-packages (from python-dateutil>=2.7->matplotlib<4.0.0,>=3.7.1->supervision) (1.16.0)\n",
            "Requirement already satisfied: webdavclient3 in /usr/local/lib/python3.10/dist-packages (3.14.6)\n",
            "Requirement already satisfied: requests in /usr/local/lib/python3.10/dist-packages (from webdavclient3) (2.31.0)\n",
            "Requirement already satisfied: lxml in /usr/local/lib/python3.10/dist-packages (from webdavclient3) (4.9.3)\n",
            "Requirement already satisfied: python-dateutil in /usr/local/lib/python3.10/dist-packages (from webdavclient3) (2.8.2)\n",
            "Requirement already satisfied: six>=1.5 in /usr/local/lib/python3.10/dist-packages (from python-dateutil->webdavclient3) (1.16.0)\n",
            "Requirement already satisfied: charset-normalizer<4,>=2 in /usr/local/lib/python3.10/dist-packages (from requests->webdavclient3) (3.3.1)\n",
            "Requirement already satisfied: idna<4,>=2.5 in /usr/local/lib/python3.10/dist-packages (from requests->webdavclient3) (3.4)\n",
            "Requirement already satisfied: urllib3<3,>=1.21.1 in /usr/local/lib/python3.10/dist-packages (from requests->webdavclient3) (2.0.7)\n",
            "Requirement already satisfied: certifi>=2017.4.17 in /usr/local/lib/python3.10/dist-packages (from requests->webdavclient3) (2023.7.22)\n",
            "Reading package lists... Done\n",
            "Building dependency tree... Done\n",
            "Reading state information... Done\n",
            "The following additional packages will be installed:\n",
            "  libneon27\n",
            "The following NEW packages will be installed:\n",
            "  davfs2 libneon27\n",
            "0 upgraded, 2 newly installed, 0 to remove and 19 not upgraded.\n",
            "Need to get 258 kB of archives.\n",
            "After this operation, 627 kB of additional disk space will be used.\n",
            "Get:1 http://archive.ubuntu.com/ubuntu jammy/universe amd64 libneon27 amd64 0.32.2-1 [102 kB]\n",
            "Get:2 http://archive.ubuntu.com/ubuntu jammy/universe amd64 davfs2 amd64 1.6.1-1 [155 kB]\n",
            "Fetched 258 kB in 0s (1,122 kB/s)\n",
            "Preconfiguring packages ...\n",
            "Selecting previously unselected package libneon27:amd64.\n",
            "(Reading database ... 120874 files and directories currently installed.)\n",
            "Preparing to unpack .../libneon27_0.32.2-1_amd64.deb ...\n",
            "Unpacking libneon27:amd64 (0.32.2-1) ...\n",
            "Selecting previously unselected package davfs2.\n",
            "Preparing to unpack .../davfs2_1.6.1-1_amd64.deb ...\n",
            "Unpacking davfs2 (1.6.1-1) ...\n",
            "Setting up libneon27:amd64 (0.32.2-1) ...\n",
            "Setting up davfs2 (1.6.1-1) ...\n",
            "Processing triggers for man-db (2.10.2-1) ...\n",
            "Processing triggers for libc-bin (2.35-0ubuntu3.1) ...\n",
            "/sbin/ldconfig.real: /usr/local/lib/libtbbmalloc_proxy.so.2 is not a symbolic link\n",
            "\n",
            "/sbin/ldconfig.real: /usr/local/lib/libtbb.so.12 is not a symbolic link\n",
            "\n",
            "/sbin/ldconfig.real: /usr/local/lib/libtbbbind_2_0.so.3 is not a symbolic link\n",
            "\n",
            "/sbin/ldconfig.real: /usr/local/lib/libtbbbind.so.3 is not a symbolic link\n",
            "\n",
            "/sbin/ldconfig.real: /usr/local/lib/libtbbbind_2_5.so.3 is not a symbolic link\n",
            "\n",
            "/sbin/ldconfig.real: /usr/local/lib/libtbbmalloc.so.2 is not a symbolic link\n",
            "\n"
          ]
        }
      ]
    },
    {
      "cell_type": "code",
      "execution_count": 44,
      "metadata": {
        "colab": {
          "base_uri": "https://localhost:8080/"
        },
        "id": "Tsy9vah7qGd3",
        "outputId": "7e2d9061-233d-4123-e665-99fd6c5ef351"
      },
      "outputs": [
        {
          "output_type": "stream",
          "name": "stdout",
          "text": [
            "Mounted at /content/drive\n"
          ]
        }
      ],
      "source": [
        "import sys\n",
        "import os\n",
        "import faiss\n",
        "import numpy as np\n",
        "import torch\n",
        "import torchvision.transforms as T\n",
        "from PIL import Image\n",
        "import cv2\n",
        "import json\n",
        "from tqdm.notebook import tqdm\n",
        "from matplotlib import pyplot as plt\n",
        "import supervision as sv\n",
        "from webdav3.client import Client\n",
        "from google.colab import drive\n",
        "drive.mount('/content/drive')\n",
        "\n",
        "# Load an image and return a tensor that can be used as an input to DINOv2.\n",
        "def load_image(img: str) -> torch.Tensor:\n",
        "    img = Image.open(img)\n",
        "    transformed_img = transform_image(img)[:3].unsqueeze(0)\n",
        "    return transformed_img\n",
        "\n",
        "# Create an index that contains all of the images in the specified list of files.\n",
        "def create_index(files: list) -> faiss.IndexFlatL2:\n",
        "    index = faiss.IndexFlatL2(384)\n",
        "    all_embeddings = {}\n",
        "    with torch.no_grad():\n",
        "        for i, file in enumerate(tqdm(files)):\n",
        "          try:\n",
        "            embeddings = dinov2_vits14(load_image(file).to(device))\n",
        "            embedding = embeddings[0].cpu().numpy()\n",
        "            all_embeddings[file] = np.array(embedding).reshape(1, -1).tolist()\n",
        "            index.add(np.array(embedding).reshape(1, -1))\n",
        "          except: pass\n",
        "    with open(\"all_embeddings.json\", \"w\") as f:\n",
        "        f.write(json.dumps(all_embeddings))\n",
        "    faiss.write_index(index, \"data.bin\")\n",
        "    return index, all_embeddings\n",
        "\n",
        "# Search the index for the images that are most similar to the provided image.\n",
        "def search_index(index: faiss.IndexFlatL2, embeddings: list, k: int = 3) -> list:\n",
        "    D, I = index.search(np.array(embeddings[0].reshape(1, -1)), k)\n",
        "    return I[0]"
      ]
    },
    {
      "cell_type": "code",
      "source": [
        "if torch.cuda.is_available() : print(\"Used GPU : {}\\n\".format(torch.cuda.get_device_name(0)))\n",
        "else: print(\"No GPU available. CPU is used\\n\")\n",
        "\n",
        "dinov2_vits14 = torch.hub.load(\"facebookresearch/dinov2\", \"dinov2_vits14\")\n",
        "device = torch.device('cuda' if torch.cuda.is_available() else \"cpu\")\n",
        "dinov2_vits14.to(device)\n",
        "transform_image = T.Compose([T.ToTensor(), T.Resize(244), T.CenterCrop(224), T.Normalize([0.5], [0.5])])\n",
        "\n",
        "folder=\"/content/drive/MyDrive/Corpus\"\n",
        "files = [\"/\".join([folder,path]) for path in os.listdir(folder) if path.endswith(\".jpg\")]\n",
        "#print(files)\n",
        "data_index, all_embeddings = create_index(files)\n"
      ],
      "metadata": {
        "id": "VAy1PXdSqhNA"
      },
      "execution_count": null,
      "outputs": []
    },
    {
      "cell_type": "code",
      "source": [
        "search_file = \"/content/drive/MyDrive/Corpusimage_887.jpg\"\n",
        "\n",
        "img = cv2.resize(cv2.imread(search_file), (416, 416))\n",
        "print(\"Input image:\")\n",
        "%matplotlib inline\n",
        "sv.plot_image(image=img, size=(6, 6))\n",
        "print(\"*\" * 20)\n",
        "with torch.no_grad():\n",
        "    embedding = dinov2_vits14(load_image(search_file).to(device))\n",
        "    indices = search_index(data_index, np.array(embedding[0].cpu()).reshape(1, -1), k=10)\n",
        "    for i, index in enumerate(indices):\n",
        "        print()\n",
        "        print(f\"Image {i}: {files[index]}\")\n",
        "        img = cv2.resize(cv2.imread(files[index]), (416, 416))\n",
        "        %matplotlib inline\n",
        "        sv.plot_image(image=img, size=(6,6))"
      ],
      "metadata": {
        "id": "zTA15_Maqx8X"
      },
      "execution_count": null,
      "outputs": []
    }
  ]
}